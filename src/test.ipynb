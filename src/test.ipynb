{
 "cells": [
  {
   "cell_type": "code",
   "execution_count": 1,
   "metadata": {},
   "outputs": [
    {
     "name": "stderr",
     "output_type": "stream",
     "text": [
      "/Users/donnybertucci/ClipQuery/venv/lib/python3.8/site-packages/tqdm/auto.py:21: TqdmWarning: IProgress not found. Please update jupyter and ipywidgets. See https://ipywidgets.readthedocs.io/en/stable/user_install.html\n",
      "  from .autonotebook import tqdm as notebook_tqdm\n",
      "/Users/donnybertucci/ClipQuery/venv/lib/python3.8/site-packages/torch/amp/autocast_mode.py:204: UserWarning: User provided device_type of 'cuda', but CUDA is not available. Disabling\n",
      "  warnings.warn('User provided device_type of \\'cuda\\', but CUDA is not available. Disabling')\n"
     ]
    }
   ],
   "source": [
    "from clip_query import ClipQuery\n",
    "import pandas as pd"
   ]
  },
  {
   "cell_type": "code",
   "execution_count": 2,
   "metadata": {},
   "outputs": [],
   "source": [
    "import os\n",
    "base_path = \"../data/imagenette\"\n",
    "df = pd.read_csv(os.path.join(base_path, \"validation_labels.csv\"))"
   ]
  },
  {
   "cell_type": "code",
   "execution_count": 3,
   "metadata": {},
   "outputs": [
    {
     "data": {
      "text/html": [
       "<div>\n",
       "<style scoped>\n",
       "    .dataframe tbody tr th:only-of-type {\n",
       "        vertical-align: middle;\n",
       "    }\n",
       "\n",
       "    .dataframe tbody tr th {\n",
       "        vertical-align: top;\n",
       "    }\n",
       "\n",
       "    .dataframe thead th {\n",
       "        text-align: right;\n",
       "    }\n",
       "</style>\n",
       "<table border=\"1\" class=\"dataframe\">\n",
       "  <thead>\n",
       "    <tr style=\"text-align: right;\">\n",
       "      <th></th>\n",
       "      <th>id</th>\n",
       "      <th>label</th>\n",
       "      <th>split</th>\n",
       "    </tr>\n",
       "  </thead>\n",
       "  <tbody>\n",
       "    <tr>\n",
       "      <th>0</th>\n",
       "      <td>val/n02979186/n02979186_8971.JPEG</td>\n",
       "      <td>cassette player</td>\n",
       "      <td>valid</td>\n",
       "    </tr>\n",
       "    <tr>\n",
       "      <th>1</th>\n",
       "      <td>val/n02979186/n02979186_14550.JPEG</td>\n",
       "      <td>cassette player</td>\n",
       "      <td>valid</td>\n",
       "    </tr>\n",
       "    <tr>\n",
       "      <th>2</th>\n",
       "      <td>val/n02979186/n02979186_11971.JPEG</td>\n",
       "      <td>cassette player</td>\n",
       "      <td>valid</td>\n",
       "    </tr>\n",
       "    <tr>\n",
       "      <th>3</th>\n",
       "      <td>val/n02979186/n02979186_11550.JPEG</td>\n",
       "      <td>cassette player</td>\n",
       "      <td>valid</td>\n",
       "    </tr>\n",
       "    <tr>\n",
       "      <th>4</th>\n",
       "      <td>val/n02979186/n02979186_8751.JPEG</td>\n",
       "      <td>cassette player</td>\n",
       "      <td>valid</td>\n",
       "    </tr>\n",
       "    <tr>\n",
       "      <th>...</th>\n",
       "      <td>...</td>\n",
       "      <td>...</td>\n",
       "      <td>...</td>\n",
       "    </tr>\n",
       "    <tr>\n",
       "      <th>3920</th>\n",
       "      <td>val/n03425413/n03425413_17521.JPEG</td>\n",
       "      <td>gas pump</td>\n",
       "      <td>valid</td>\n",
       "    </tr>\n",
       "    <tr>\n",
       "      <th>3921</th>\n",
       "      <td>val/n03425413/n03425413_20711.JPEG</td>\n",
       "      <td>gas pump</td>\n",
       "      <td>valid</td>\n",
       "    </tr>\n",
       "    <tr>\n",
       "      <th>3922</th>\n",
       "      <td>val/n03425413/n03425413_19050.JPEG</td>\n",
       "      <td>gas pump</td>\n",
       "      <td>valid</td>\n",
       "    </tr>\n",
       "    <tr>\n",
       "      <th>3923</th>\n",
       "      <td>val/n03425413/n03425413_13831.JPEG</td>\n",
       "      <td>gas pump</td>\n",
       "      <td>valid</td>\n",
       "    </tr>\n",
       "    <tr>\n",
       "      <th>3924</th>\n",
       "      <td>val/n03425413/n03425413_1242.JPEG</td>\n",
       "      <td>gas pump</td>\n",
       "      <td>valid</td>\n",
       "    </tr>\n",
       "  </tbody>\n",
       "</table>\n",
       "<p>3925 rows × 3 columns</p>\n",
       "</div>"
      ],
      "text/plain": [
       "                                      id            label  split\n",
       "0      val/n02979186/n02979186_8971.JPEG  cassette player  valid\n",
       "1     val/n02979186/n02979186_14550.JPEG  cassette player  valid\n",
       "2     val/n02979186/n02979186_11971.JPEG  cassette player  valid\n",
       "3     val/n02979186/n02979186_11550.JPEG  cassette player  valid\n",
       "4      val/n02979186/n02979186_8751.JPEG  cassette player  valid\n",
       "...                                  ...              ...    ...\n",
       "3920  val/n03425413/n03425413_17521.JPEG         gas pump  valid\n",
       "3921  val/n03425413/n03425413_20711.JPEG         gas pump  valid\n",
       "3922  val/n03425413/n03425413_19050.JPEG         gas pump  valid\n",
       "3923  val/n03425413/n03425413_13831.JPEG         gas pump  valid\n",
       "3924   val/n03425413/n03425413_1242.JPEG         gas pump  valid\n",
       "\n",
       "[3925 rows x 3 columns]"
      ]
     },
     "execution_count": 3,
     "metadata": {},
     "output_type": "execute_result"
    }
   ],
   "source": [
    "df"
   ]
  },
  {
   "cell_type": "code",
   "execution_count": 4,
   "metadata": {},
   "outputs": [],
   "source": [
    "# now compute batched encodings\n",
    "cql = ClipQuery()"
   ]
  },
  {
   "cell_type": "code",
   "execution_count": 5,
   "metadata": {},
   "outputs": [
    {
     "data": {
      "text/plain": [
       "0       [0.3085854649543762, -0.19092532992362976, 0.2...\n",
       "1       [0.10161502659320831, -0.17833435535430908, -0...\n",
       "2       [0.18083025515079498, 0.1278810054063797, -0.1...\n",
       "3       [-0.1899462342262268, -0.357085257768631, 0.40...\n",
       "4       [-0.005921566858887672, 0.3006858229637146, -0...\n",
       "                              ...                        \n",
       "3920    [-0.47680068016052246, 0.4396960139274597, -0....\n",
       "3921    [-0.15064717829227448, -0.3609411418437958, -0...\n",
       "3922    [-0.03293980658054352, 0.255151629447937, -0.5...\n",
       "3923    [0.021669946610927582, 0.2808123528957367, -0....\n",
       "3924    [0.004720084369182587, -0.04765687882900238, -...\n",
       "Name: clip(image), Length: 3925, dtype: object"
      ]
     },
     "execution_count": 5,
     "metadata": {},
     "output_type": "execute_result"
    }
   ],
   "source": [
    "import pandas as pd\n",
    "import os\n",
    "image_encodings = pd.read_parquet(os.path.join(\"../experiments\", \"dummy.parquet\"))[\"clip(image)\"]\n",
    "image_encodings"
   ]
  },
  {
   "cell_type": "code",
   "execution_count": 6,
   "metadata": {},
   "outputs": [
    {
     "data": {
      "text/plain": [
       "0       0.013098\n",
       "1       0.013457\n",
       "2       0.011152\n",
       "3       0.013538\n",
       "4       0.011719\n",
       "          ...   \n",
       "3920    0.016947\n",
       "3921    0.013201\n",
       "3922    0.014426\n",
       "3923    0.017609\n",
       "3924    0.016068\n",
       "Length: 3925, dtype: float64"
      ]
     },
     "execution_count": 6,
     "metadata": {},
     "output_type": "execute_result"
    }
   ],
   "source": [
    "cql.query(image_encodings, \"a dog\", normalize=True)"
   ]
  },
  {
   "cell_type": "code",
   "execution_count": null,
   "metadata": {},
   "outputs": [],
   "source": []
  }
 ],
 "metadata": {
  "kernelspec": {
   "display_name": "venv",
   "language": "python",
   "name": "python3"
  },
  "language_info": {
   "codemirror_mode": {
    "name": "ipython",
    "version": 3
   },
   "file_extension": ".py",
   "mimetype": "text/x-python",
   "name": "python",
   "nbconvert_exporter": "python",
   "pygments_lexer": "ipython3",
   "version": "3.8.16"
  },
  "orig_nbformat": 4
 },
 "nbformat": 4,
 "nbformat_minor": 2
}
