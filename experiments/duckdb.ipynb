{
 "cells": [
  {
   "cell_type": "code",
   "execution_count": 1,
   "metadata": {},
   "outputs": [],
   "source": [
    "import pandas as pd\n",
    "import duckdb"
   ]
  },
  {
   "cell_type": "code",
   "execution_count": 2,
   "metadata": {},
   "outputs": [],
   "source": [
    "class ClipQuery:\n",
    "    def __init__(self):\n",
    "        self.db = duckdb.connect()\n",
    "\n",
    "    def query(self, query: str):\n",
    "        output = self.db.execute(query)\n",
    "        return output.df()\n",
    "    "
   ]
  },
  {
   "cell_type": "code",
   "execution_count": 3,
   "metadata": {},
   "outputs": [],
   "source": [
    "df = pd.read_parquet(\"dummy.parquet\")"
   ]
  },
  {
   "cell_type": "code",
   "execution_count": 5,
   "metadata": {},
   "outputs": [],
   "source": [
    "import torch"
   ]
  },
  {
   "cell_type": "code",
   "execution_count": 9,
   "metadata": {},
   "outputs": [
    {
     "data": {
      "text/plain": [
       "torch.Size([100, 512])"
      ]
     },
     "execution_count": 9,
     "metadata": {},
     "output_type": "execute_result"
    }
   ],
   "source": [
    "torch.tensor(df[\"clip(image)\"][0:100], dtype=torch.float32).shape"
   ]
  },
  {
   "attachments": {},
   "cell_type": "markdown",
   "metadata": {},
   "source": [
    "# Duckdb tests"
   ]
  },
  {
   "cell_type": "code",
   "execution_count": 19,
   "metadata": {},
   "outputs": [],
   "source": [
    "df[\"~dog_it\"] = range(len(df))"
   ]
  },
  {
   "cell_type": "code",
   "execution_count": 20,
   "metadata": {},
   "outputs": [
    {
     "data": {
      "text/html": [
       "<div>\n",
       "<style scoped>\n",
       "    .dataframe tbody tr th:only-of-type {\n",
       "        vertical-align: middle;\n",
       "    }\n",
       "\n",
       "    .dataframe tbody tr th {\n",
       "        vertical-align: top;\n",
       "    }\n",
       "\n",
       "    .dataframe thead th {\n",
       "        text-align: right;\n",
       "    }\n",
       "</style>\n",
       "<table border=\"1\" class=\"dataframe\">\n",
       "  <thead>\n",
       "    <tr style=\"text-align: right;\">\n",
       "      <th></th>\n",
       "      <th>id</th>\n",
       "      <th>label</th>\n",
       "      <th>split</th>\n",
       "      <th>clip(image)</th>\n",
       "      <th>$dog</th>\n",
       "      <th>~dog_it</th>\n",
       "    </tr>\n",
       "  </thead>\n",
       "  <tbody>\n",
       "    <tr>\n",
       "      <th>0</th>\n",
       "      <td>val/n02979186/n02979186_8971.JPEG</td>\n",
       "      <td>cassette player</td>\n",
       "      <td>valid</td>\n",
       "      <td>[0.3085854649543762, -0.19092532992362976, 0.2...</td>\n",
       "      <td>0</td>\n",
       "      <td>0</td>\n",
       "    </tr>\n",
       "    <tr>\n",
       "      <th>1</th>\n",
       "      <td>val/n02979186/n02979186_14550.JPEG</td>\n",
       "      <td>cassette player</td>\n",
       "      <td>valid</td>\n",
       "      <td>[0.10161502659320831, -0.17833435535430908, -0...</td>\n",
       "      <td>1</td>\n",
       "      <td>1</td>\n",
       "    </tr>\n",
       "    <tr>\n",
       "      <th>2</th>\n",
       "      <td>val/n02979186/n02979186_11971.JPEG</td>\n",
       "      <td>cassette player</td>\n",
       "      <td>valid</td>\n",
       "      <td>[0.18083025515079498, 0.1278810054063797, -0.1...</td>\n",
       "      <td>2</td>\n",
       "      <td>2</td>\n",
       "    </tr>\n",
       "    <tr>\n",
       "      <th>3</th>\n",
       "      <td>val/n02979186/n02979186_11550.JPEG</td>\n",
       "      <td>cassette player</td>\n",
       "      <td>valid</td>\n",
       "      <td>[-0.1899462342262268, -0.357085257768631, 0.40...</td>\n",
       "      <td>3</td>\n",
       "      <td>3</td>\n",
       "    </tr>\n",
       "    <tr>\n",
       "      <th>4</th>\n",
       "      <td>val/n02979186/n02979186_8751.JPEG</td>\n",
       "      <td>cassette player</td>\n",
       "      <td>valid</td>\n",
       "      <td>[-0.005921566858887672, 0.3006858229637146, -0...</td>\n",
       "      <td>4</td>\n",
       "      <td>4</td>\n",
       "    </tr>\n",
       "    <tr>\n",
       "      <th>...</th>\n",
       "      <td>...</td>\n",
       "      <td>...</td>\n",
       "      <td>...</td>\n",
       "      <td>...</td>\n",
       "      <td>...</td>\n",
       "      <td>...</td>\n",
       "    </tr>\n",
       "    <tr>\n",
       "      <th>3920</th>\n",
       "      <td>val/n03425413/n03425413_17521.JPEG</td>\n",
       "      <td>gas pump</td>\n",
       "      <td>valid</td>\n",
       "      <td>[-0.47680068016052246, 0.4396960139274597, -0....</td>\n",
       "      <td>3920</td>\n",
       "      <td>3920</td>\n",
       "    </tr>\n",
       "    <tr>\n",
       "      <th>3921</th>\n",
       "      <td>val/n03425413/n03425413_20711.JPEG</td>\n",
       "      <td>gas pump</td>\n",
       "      <td>valid</td>\n",
       "      <td>[-0.15064717829227448, -0.3609411418437958, -0...</td>\n",
       "      <td>3921</td>\n",
       "      <td>3921</td>\n",
       "    </tr>\n",
       "    <tr>\n",
       "      <th>3922</th>\n",
       "      <td>val/n03425413/n03425413_19050.JPEG</td>\n",
       "      <td>gas pump</td>\n",
       "      <td>valid</td>\n",
       "      <td>[-0.03293980658054352, 0.255151629447937, -0.5...</td>\n",
       "      <td>3922</td>\n",
       "      <td>3922</td>\n",
       "    </tr>\n",
       "    <tr>\n",
       "      <th>3923</th>\n",
       "      <td>val/n03425413/n03425413_13831.JPEG</td>\n",
       "      <td>gas pump</td>\n",
       "      <td>valid</td>\n",
       "      <td>[0.021669946610927582, 0.2808123528957367, -0....</td>\n",
       "      <td>3923</td>\n",
       "      <td>3923</td>\n",
       "    </tr>\n",
       "    <tr>\n",
       "      <th>3924</th>\n",
       "      <td>val/n03425413/n03425413_1242.JPEG</td>\n",
       "      <td>gas pump</td>\n",
       "      <td>valid</td>\n",
       "      <td>[0.004720084369182587, -0.04765687882900238, -...</td>\n",
       "      <td>3924</td>\n",
       "      <td>3924</td>\n",
       "    </tr>\n",
       "  </tbody>\n",
       "</table>\n",
       "<p>3925 rows × 6 columns</p>\n",
       "</div>"
      ],
      "text/plain": [
       "                                      id            label  split  \\\n",
       "0      val/n02979186/n02979186_8971.JPEG  cassette player  valid   \n",
       "1     val/n02979186/n02979186_14550.JPEG  cassette player  valid   \n",
       "2     val/n02979186/n02979186_11971.JPEG  cassette player  valid   \n",
       "3     val/n02979186/n02979186_11550.JPEG  cassette player  valid   \n",
       "4      val/n02979186/n02979186_8751.JPEG  cassette player  valid   \n",
       "...                                  ...              ...    ...   \n",
       "3920  val/n03425413/n03425413_17521.JPEG         gas pump  valid   \n",
       "3921  val/n03425413/n03425413_20711.JPEG         gas pump  valid   \n",
       "3922  val/n03425413/n03425413_19050.JPEG         gas pump  valid   \n",
       "3923  val/n03425413/n03425413_13831.JPEG         gas pump  valid   \n",
       "3924   val/n03425413/n03425413_1242.JPEG         gas pump  valid   \n",
       "\n",
       "                                            clip(image)  $dog  ~dog_it  \n",
       "0     [0.3085854649543762, -0.19092532992362976, 0.2...     0        0  \n",
       "1     [0.10161502659320831, -0.17833435535430908, -0...     1        1  \n",
       "2     [0.18083025515079498, 0.1278810054063797, -0.1...     2        2  \n",
       "3     [-0.1899462342262268, -0.357085257768631, 0.40...     3        3  \n",
       "4     [-0.005921566858887672, 0.3006858229637146, -0...     4        4  \n",
       "...                                                 ...   ...      ...  \n",
       "3920  [-0.47680068016052246, 0.4396960139274597, -0....  3920     3920  \n",
       "3921  [-0.15064717829227448, -0.3609411418437958, -0...  3921     3921  \n",
       "3922  [-0.03293980658054352, 0.255151629447937, -0.5...  3922     3922  \n",
       "3923  [0.021669946610927582, 0.2808123528957367, -0....  3923     3923  \n",
       "3924  [0.004720084369182587, -0.04765687882900238, -...  3924     3924  \n",
       "\n",
       "[3925 rows x 6 columns]"
      ]
     },
     "execution_count": 20,
     "metadata": {},
     "output_type": "execute_result"
    }
   ],
   "source": [
    "df"
   ]
  },
  {
   "cell_type": "code",
   "execution_count": 21,
   "metadata": {},
   "outputs": [],
   "source": [
    "cq = ClipQuery()"
   ]
  },
  {
   "cell_type": "code",
   "execution_count": null,
   "metadata": {},
   "outputs": [],
   "source": []
  }
 ],
 "metadata": {
  "kernelspec": {
   "display_name": "venv",
   "language": "python",
   "name": "python3"
  },
  "language_info": {
   "codemirror_mode": {
    "name": "ipython",
    "version": 3
   },
   "file_extension": ".py",
   "mimetype": "text/x-python",
   "name": "python",
   "nbconvert_exporter": "python",
   "pygments_lexer": "ipython3",
   "version": "3.8.16"
  },
  "orig_nbformat": 4
 },
 "nbformat": 4,
 "nbformat_minor": 2
}
