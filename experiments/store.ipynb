{
 "cells": [
  {
   "cell_type": "code",
   "execution_count": 12,
   "metadata": {},
   "outputs": [],
   "source": [
    "import pandas as pd\n",
    "import torch\n",
    "import helpful\n",
    "import PIL"
   ]
  },
  {
   "cell_type": "code",
   "execution_count": 2,
   "metadata": {},
   "outputs": [],
   "source": [
    "df = pd.read_csv(\"../data/imagenette/validation_labels.csv\")"
   ]
  },
  {
   "cell_type": "code",
   "execution_count": 3,
   "metadata": {},
   "outputs": [
    {
     "data": {
      "text/html": [
       "<div>\n",
       "<style scoped>\n",
       "    .dataframe tbody tr th:only-of-type {\n",
       "        vertical-align: middle;\n",
       "    }\n",
       "\n",
       "    .dataframe tbody tr th {\n",
       "        vertical-align: top;\n",
       "    }\n",
       "\n",
       "    .dataframe thead th {\n",
       "        text-align: right;\n",
       "    }\n",
       "</style>\n",
       "<table border=\"1\" class=\"dataframe\">\n",
       "  <thead>\n",
       "    <tr style=\"text-align: right;\">\n",
       "      <th></th>\n",
       "      <th>id</th>\n",
       "      <th>label</th>\n",
       "      <th>split</th>\n",
       "    </tr>\n",
       "  </thead>\n",
       "  <tbody>\n",
       "    <tr>\n",
       "      <th>0</th>\n",
       "      <td>val/n02979186/n02979186_8971.JPEG</td>\n",
       "      <td>cassette player</td>\n",
       "      <td>valid</td>\n",
       "    </tr>\n",
       "    <tr>\n",
       "      <th>1</th>\n",
       "      <td>val/n02979186/n02979186_14550.JPEG</td>\n",
       "      <td>cassette player</td>\n",
       "      <td>valid</td>\n",
       "    </tr>\n",
       "    <tr>\n",
       "      <th>2</th>\n",
       "      <td>val/n02979186/n02979186_11971.JPEG</td>\n",
       "      <td>cassette player</td>\n",
       "      <td>valid</td>\n",
       "    </tr>\n",
       "    <tr>\n",
       "      <th>3</th>\n",
       "      <td>val/n02979186/n02979186_11550.JPEG</td>\n",
       "      <td>cassette player</td>\n",
       "      <td>valid</td>\n",
       "    </tr>\n",
       "    <tr>\n",
       "      <th>4</th>\n",
       "      <td>val/n02979186/n02979186_8751.JPEG</td>\n",
       "      <td>cassette player</td>\n",
       "      <td>valid</td>\n",
       "    </tr>\n",
       "    <tr>\n",
       "      <th>...</th>\n",
       "      <td>...</td>\n",
       "      <td>...</td>\n",
       "      <td>...</td>\n",
       "    </tr>\n",
       "    <tr>\n",
       "      <th>3920</th>\n",
       "      <td>val/n03425413/n03425413_17521.JPEG</td>\n",
       "      <td>gas pump</td>\n",
       "      <td>valid</td>\n",
       "    </tr>\n",
       "    <tr>\n",
       "      <th>3921</th>\n",
       "      <td>val/n03425413/n03425413_20711.JPEG</td>\n",
       "      <td>gas pump</td>\n",
       "      <td>valid</td>\n",
       "    </tr>\n",
       "    <tr>\n",
       "      <th>3922</th>\n",
       "      <td>val/n03425413/n03425413_19050.JPEG</td>\n",
       "      <td>gas pump</td>\n",
       "      <td>valid</td>\n",
       "    </tr>\n",
       "    <tr>\n",
       "      <th>3923</th>\n",
       "      <td>val/n03425413/n03425413_13831.JPEG</td>\n",
       "      <td>gas pump</td>\n",
       "      <td>valid</td>\n",
       "    </tr>\n",
       "    <tr>\n",
       "      <th>3924</th>\n",
       "      <td>val/n03425413/n03425413_1242.JPEG</td>\n",
       "      <td>gas pump</td>\n",
       "      <td>valid</td>\n",
       "    </tr>\n",
       "  </tbody>\n",
       "</table>\n",
       "<p>3925 rows × 3 columns</p>\n",
       "</div>"
      ],
      "text/plain": [
       "                                      id            label  split\n",
       "0      val/n02979186/n02979186_8971.JPEG  cassette player  valid\n",
       "1     val/n02979186/n02979186_14550.JPEG  cassette player  valid\n",
       "2     val/n02979186/n02979186_11971.JPEG  cassette player  valid\n",
       "3     val/n02979186/n02979186_11550.JPEG  cassette player  valid\n",
       "4      val/n02979186/n02979186_8751.JPEG  cassette player  valid\n",
       "...                                  ...              ...    ...\n",
       "3920  val/n03425413/n03425413_17521.JPEG         gas pump  valid\n",
       "3921  val/n03425413/n03425413_20711.JPEG         gas pump  valid\n",
       "3922  val/n03425413/n03425413_19050.JPEG         gas pump  valid\n",
       "3923  val/n03425413/n03425413_13831.JPEG         gas pump  valid\n",
       "3924   val/n03425413/n03425413_1242.JPEG         gas pump  valid\n",
       "\n",
       "[3925 rows x 3 columns]"
      ]
     },
     "execution_count": 3,
     "metadata": {},
     "output_type": "execute_result"
    }
   ],
   "source": [
    "df"
   ]
  },
  {
   "cell_type": "code",
   "execution_count": 5,
   "metadata": {},
   "outputs": [],
   "source": [
    "model, preprocess, tokenizer = helpful.load_clip()"
   ]
  },
  {
   "cell_type": "code",
   "execution_count": 23,
   "metadata": {},
   "outputs": [
    {
     "name": "stdout",
     "output_type": "stream",
     "text": [
      "torch.Size([2, 512])\n"
     ]
    }
   ],
   "source": [
    "# given a single text string, return the score for the best matches for the images\n",
    "with torch.no_grad(), torch.cuda.amp.autocast():\n",
    "\tmy_text = \"a picture of a radio\"\n",
    "\t# [1, 77]\n",
    "\tmy_text_tensor = tokenizer([my_text])\n",
    "\n",
    "\t# [1, 512]\n",
    "\tmy_text_features = model.encode_text(my_text_tensor)\n",
    "\n",
    "\t# now encode all the images into a single gigatensor\n",
    "\t\n",
    "\t# TODO don't do these separate\n",
    "\tdef image_path_to_PIL(df: pd.Series):\n",
    "\t\treturn df.apply(lambda x: PIL.Image.open(f\"../data/imagenette/{x}\"))\n",
    "\tdef preprocess_PIL(df: pd.Series):\n",
    "\t\treturn df.apply(lambda x: preprocess(x).unsqueeze(0))\n",
    "\t\n",
    "\timage_col = df[\"id\"]\n",
    "\tpil_col = image_path_to_PIL(image_col)\n",
    "\tlist_of_image_tensors = preprocess_PIL(pil_col).tolist()\n",
    "\n",
    "\t# [3925, 3, 224, 224]\n",
    "\timage_tensor = torch.cat(list_of_image_tensors[0:2], dim=0)\n",
    "\n",
    "\t# [3925, 512]\n",
    "\timage_features = model.encode_image(image_tensor)\n",
    "\tprint(image_features.shape)\n",
    "\n",
    "\t# [3925, 1]\n",
    "\tclip_scores = image_features @ my_text_features.T"
   ]
  }
 ],
 "metadata": {
  "kernelspec": {
   "display_name": "venv",
   "language": "python",
   "name": "python3"
  },
  "language_info": {
   "codemirror_mode": {
    "name": "ipython",
    "version": 3
   },
   "file_extension": ".py",
   "mimetype": "text/x-python",
   "name": "python",
   "nbconvert_exporter": "python",
   "pygments_lexer": "ipython3",
   "version": "3.8.16"
  },
  "orig_nbformat": 4
 },
 "nbformat": 4,
 "nbformat_minor": 2
}
