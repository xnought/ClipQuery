{
 "cells": [
  {
   "cell_type": "code",
   "execution_count": 1,
   "metadata": {},
   "outputs": [],
   "source": [
    "import pandas as pd\n",
    "import helpful "
   ]
  },
  {
   "cell_type": "code",
   "execution_count": 2,
   "metadata": {},
   "outputs": [],
   "source": [
    "df = pd.read_csv(\"../data/imagenette/validation_labels.csv\")"
   ]
  },
  {
   "cell_type": "code",
   "execution_count": 3,
   "metadata": {},
   "outputs": [
    {
     "data": {
      "text/html": [
       "<div>\n",
       "<style scoped>\n",
       "    .dataframe tbody tr th:only-of-type {\n",
       "        vertical-align: middle;\n",
       "    }\n",
       "\n",
       "    .dataframe tbody tr th {\n",
       "        vertical-align: top;\n",
       "    }\n",
       "\n",
       "    .dataframe thead th {\n",
       "        text-align: right;\n",
       "    }\n",
       "</style>\n",
       "<table border=\"1\" class=\"dataframe\">\n",
       "  <thead>\n",
       "    <tr style=\"text-align: right;\">\n",
       "      <th></th>\n",
       "      <th>id</th>\n",
       "      <th>label</th>\n",
       "      <th>split</th>\n",
       "    </tr>\n",
       "  </thead>\n",
       "  <tbody>\n",
       "    <tr>\n",
       "      <th>0</th>\n",
       "      <td>val/n02979186/n02979186_8971.JPEG</td>\n",
       "      <td>cassette player</td>\n",
       "      <td>valid</td>\n",
       "    </tr>\n",
       "    <tr>\n",
       "      <th>1</th>\n",
       "      <td>val/n02979186/n02979186_14550.JPEG</td>\n",
       "      <td>cassette player</td>\n",
       "      <td>valid</td>\n",
       "    </tr>\n",
       "    <tr>\n",
       "      <th>2</th>\n",
       "      <td>val/n02979186/n02979186_11971.JPEG</td>\n",
       "      <td>cassette player</td>\n",
       "      <td>valid</td>\n",
       "    </tr>\n",
       "    <tr>\n",
       "      <th>3</th>\n",
       "      <td>val/n02979186/n02979186_11550.JPEG</td>\n",
       "      <td>cassette player</td>\n",
       "      <td>valid</td>\n",
       "    </tr>\n",
       "    <tr>\n",
       "      <th>4</th>\n",
       "      <td>val/n02979186/n02979186_8751.JPEG</td>\n",
       "      <td>cassette player</td>\n",
       "      <td>valid</td>\n",
       "    </tr>\n",
       "  </tbody>\n",
       "</table>\n",
       "</div>"
      ],
      "text/plain": [
       "                                   id            label  split\n",
       "0   val/n02979186/n02979186_8971.JPEG  cassette player  valid\n",
       "1  val/n02979186/n02979186_14550.JPEG  cassette player  valid\n",
       "2  val/n02979186/n02979186_11971.JPEG  cassette player  valid\n",
       "3  val/n02979186/n02979186_11550.JPEG  cassette player  valid\n",
       "4   val/n02979186/n02979186_8751.JPEG  cassette player  valid"
      ]
     },
     "execution_count": 3,
     "metadata": {},
     "output_type": "execute_result"
    }
   ],
   "source": [
    "df.head()"
   ]
  },
  {
   "cell_type": "code",
   "execution_count": 4,
   "metadata": {},
   "outputs": [
    {
     "name": "stderr",
     "output_type": "stream",
     "text": [
      "/Users/donnybertucci/ClipQuery/venv/lib/python3.8/site-packages/tqdm/auto.py:21: TqdmWarning: IProgress not found. Please update jupyter and ipywidgets. See https://ipywidgets.readthedocs.io/en/stable/user_install.html\n",
      "  from .autonotebook import tqdm as notebook_tqdm\n"
     ]
    }
   ],
   "source": [
    "model, preprocess, tokenizer = helpful.load_clip()"
   ]
  },
  {
   "cell_type": "code",
   "execution_count": 5,
   "metadata": {},
   "outputs": [],
   "source": [
    "preprocessed_images = helpful.preprocess_image_paths(\"../data/imagenette\", df[\"id\"], preprocess)"
   ]
  },
  {
   "cell_type": "code",
   "execution_count": 6,
   "metadata": {},
   "outputs": [
    {
     "name": "stdout",
     "output_type": "stream",
     "text": [
      "torch.Size([3925, 3, 224, 224])\n"
     ]
    }
   ],
   "source": [
    "print(preprocessed_images.shape)"
   ]
  },
  {
   "cell_type": "code",
   "execution_count": 7,
   "metadata": {},
   "outputs": [],
   "source": [
    "encodings = helpful.preprocessed_to_clip_encodings(preprocessed_images, model)"
   ]
  },
  {
   "cell_type": "code",
   "execution_count": 10,
   "metadata": {},
   "outputs": [],
   "source": [
    "df[\"clip(image)\"] = encodings"
   ]
  },
  {
   "cell_type": "code",
   "execution_count": 11,
   "metadata": {},
   "outputs": [
    {
     "data": {
      "text/html": [
       "<div>\n",
       "<style scoped>\n",
       "    .dataframe tbody tr th:only-of-type {\n",
       "        vertical-align: middle;\n",
       "    }\n",
       "\n",
       "    .dataframe tbody tr th {\n",
       "        vertical-align: top;\n",
       "    }\n",
       "\n",
       "    .dataframe thead th {\n",
       "        text-align: right;\n",
       "    }\n",
       "</style>\n",
       "<table border=\"1\" class=\"dataframe\">\n",
       "  <thead>\n",
       "    <tr style=\"text-align: right;\">\n",
       "      <th></th>\n",
       "      <th>id</th>\n",
       "      <th>label</th>\n",
       "      <th>split</th>\n",
       "      <th>clip(image)</th>\n",
       "    </tr>\n",
       "  </thead>\n",
       "  <tbody>\n",
       "    <tr>\n",
       "      <th>0</th>\n",
       "      <td>val/n02979186/n02979186_8971.JPEG</td>\n",
       "      <td>cassette player</td>\n",
       "      <td>valid</td>\n",
       "      <td>[0.3085854649543762, -0.19092532992362976, 0.2...</td>\n",
       "    </tr>\n",
       "    <tr>\n",
       "      <th>1</th>\n",
       "      <td>val/n02979186/n02979186_14550.JPEG</td>\n",
       "      <td>cassette player</td>\n",
       "      <td>valid</td>\n",
       "      <td>[0.10161502659320831, -0.17833435535430908, -0...</td>\n",
       "    </tr>\n",
       "    <tr>\n",
       "      <th>2</th>\n",
       "      <td>val/n02979186/n02979186_11971.JPEG</td>\n",
       "      <td>cassette player</td>\n",
       "      <td>valid</td>\n",
       "      <td>[0.18083025515079498, 0.1278810054063797, -0.1...</td>\n",
       "    </tr>\n",
       "    <tr>\n",
       "      <th>3</th>\n",
       "      <td>val/n02979186/n02979186_11550.JPEG</td>\n",
       "      <td>cassette player</td>\n",
       "      <td>valid</td>\n",
       "      <td>[-0.1899462342262268, -0.357085257768631, 0.40...</td>\n",
       "    </tr>\n",
       "    <tr>\n",
       "      <th>4</th>\n",
       "      <td>val/n02979186/n02979186_8751.JPEG</td>\n",
       "      <td>cassette player</td>\n",
       "      <td>valid</td>\n",
       "      <td>[-0.005921566858887672, 0.3006858229637146, -0...</td>\n",
       "    </tr>\n",
       "  </tbody>\n",
       "</table>\n",
       "</div>"
      ],
      "text/plain": [
       "                                   id            label  split  \\\n",
       "0   val/n02979186/n02979186_8971.JPEG  cassette player  valid   \n",
       "1  val/n02979186/n02979186_14550.JPEG  cassette player  valid   \n",
       "2  val/n02979186/n02979186_11971.JPEG  cassette player  valid   \n",
       "3  val/n02979186/n02979186_11550.JPEG  cassette player  valid   \n",
       "4   val/n02979186/n02979186_8751.JPEG  cassette player  valid   \n",
       "\n",
       "                                         clip(image)  \n",
       "0  [0.3085854649543762, -0.19092532992362976, 0.2...  \n",
       "1  [0.10161502659320831, -0.17833435535430908, -0...  \n",
       "2  [0.18083025515079498, 0.1278810054063797, -0.1...  \n",
       "3  [-0.1899462342262268, -0.357085257768631, 0.40...  \n",
       "4  [-0.005921566858887672, 0.3006858229637146, -0...  "
      ]
     },
     "execution_count": 11,
     "metadata": {},
     "output_type": "execute_result"
    }
   ],
   "source": [
    "df.head()"
   ]
  },
  {
   "cell_type": "code",
   "execution_count": 13,
   "metadata": {},
   "outputs": [],
   "source": [
    "df.to_parquet(\"./dummy.parquet\")"
   ]
  },
  {
   "cell_type": "code",
   "execution_count": 15,
   "metadata": {},
   "outputs": [
    {
     "data": {
      "text/html": [
       "<div>\n",
       "<style scoped>\n",
       "    .dataframe tbody tr th:only-of-type {\n",
       "        vertical-align: middle;\n",
       "    }\n",
       "\n",
       "    .dataframe tbody tr th {\n",
       "        vertical-align: top;\n",
       "    }\n",
       "\n",
       "    .dataframe thead th {\n",
       "        text-align: right;\n",
       "    }\n",
       "</style>\n",
       "<table border=\"1\" class=\"dataframe\">\n",
       "  <thead>\n",
       "    <tr style=\"text-align: right;\">\n",
       "      <th></th>\n",
       "      <th>id</th>\n",
       "      <th>label</th>\n",
       "      <th>split</th>\n",
       "      <th>clip(image)</th>\n",
       "    </tr>\n",
       "  </thead>\n",
       "  <tbody>\n",
       "    <tr>\n",
       "      <th>0</th>\n",
       "      <td>val/n02979186/n02979186_8971.JPEG</td>\n",
       "      <td>cassette player</td>\n",
       "      <td>valid</td>\n",
       "      <td>[0.3085854649543762, -0.19092532992362976, 0.2...</td>\n",
       "    </tr>\n",
       "    <tr>\n",
       "      <th>1</th>\n",
       "      <td>val/n02979186/n02979186_14550.JPEG</td>\n",
       "      <td>cassette player</td>\n",
       "      <td>valid</td>\n",
       "      <td>[0.10161502659320831, -0.17833435535430908, -0...</td>\n",
       "    </tr>\n",
       "    <tr>\n",
       "      <th>2</th>\n",
       "      <td>val/n02979186/n02979186_11971.JPEG</td>\n",
       "      <td>cassette player</td>\n",
       "      <td>valid</td>\n",
       "      <td>[0.18083025515079498, 0.1278810054063797, -0.1...</td>\n",
       "    </tr>\n",
       "    <tr>\n",
       "      <th>3</th>\n",
       "      <td>val/n02979186/n02979186_11550.JPEG</td>\n",
       "      <td>cassette player</td>\n",
       "      <td>valid</td>\n",
       "      <td>[-0.1899462342262268, -0.357085257768631, 0.40...</td>\n",
       "    </tr>\n",
       "    <tr>\n",
       "      <th>4</th>\n",
       "      <td>val/n02979186/n02979186_8751.JPEG</td>\n",
       "      <td>cassette player</td>\n",
       "      <td>valid</td>\n",
       "      <td>[-0.005921566858887672, 0.3006858229637146, -0...</td>\n",
       "    </tr>\n",
       "  </tbody>\n",
       "</table>\n",
       "</div>"
      ],
      "text/plain": [
       "                                   id            label  split  \\\n",
       "0   val/n02979186/n02979186_8971.JPEG  cassette player  valid   \n",
       "1  val/n02979186/n02979186_14550.JPEG  cassette player  valid   \n",
       "2  val/n02979186/n02979186_11971.JPEG  cassette player  valid   \n",
       "3  val/n02979186/n02979186_11550.JPEG  cassette player  valid   \n",
       "4   val/n02979186/n02979186_8751.JPEG  cassette player  valid   \n",
       "\n",
       "                                         clip(image)  \n",
       "0  [0.3085854649543762, -0.19092532992362976, 0.2...  \n",
       "1  [0.10161502659320831, -0.17833435535430908, -0...  \n",
       "2  [0.18083025515079498, 0.1278810054063797, -0.1...  \n",
       "3  [-0.1899462342262268, -0.357085257768631, 0.40...  \n",
       "4  [-0.005921566858887672, 0.3006858229637146, -0...  "
      ]
     },
     "execution_count": 15,
     "metadata": {},
     "output_type": "execute_result"
    }
   ],
   "source": [
    "pd.read_parquet(\"./dummy.parquet\").head()"
   ]
  },
  {
   "cell_type": "code",
   "execution_count": 20,
   "metadata": {},
   "outputs": [
    {
     "name": "stdout",
     "output_type": "stream",
     "text": [
      "-rw-r--r--@ 1 donnybertucci  staff    12M Mar 31 21:31 dummy.parquet\n"
     ]
    }
   ],
   "source": [
    "ls -lh dummy.parquet"
   ]
  },
  {
   "cell_type": "code",
   "execution_count": null,
   "metadata": {},
   "outputs": [],
   "source": []
  }
 ],
 "metadata": {
  "kernelspec": {
   "display_name": "venv",
   "language": "python",
   "name": "python3"
  },
  "language_info": {
   "codemirror_mode": {
    "name": "ipython",
    "version": 3
   },
   "file_extension": ".py",
   "mimetype": "text/x-python",
   "name": "python",
   "nbconvert_exporter": "python",
   "pygments_lexer": "ipython3",
   "version": "3.8.16"
  },
  "orig_nbformat": 4
 },
 "nbformat": 4,
 "nbformat_minor": 2
}
