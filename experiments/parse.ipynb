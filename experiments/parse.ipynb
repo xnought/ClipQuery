{
 "cells": [
  {
   "cell_type": "code",
   "execution_count": 1,
   "metadata": {},
   "outputs": [],
   "source": [
    "from __future__ import annotations\n",
    "import sqlparse"
   ]
  },
  {
   "cell_type": "code",
   "execution_count": 33,
   "metadata": {},
   "outputs": [],
   "source": [
    "raw =  \"\"\"SELECT *, clip(image_column, 'a dog walked across the street') as scores FROM df\n",
    "WHERE a = 1 AND b = 2 AND c = 3\"\"\""
   ]
  },
  {
   "cell_type": "code",
   "execution_count": 34,
   "metadata": {},
   "outputs": [
    {
     "data": {
      "text/plain": [
       "[<DML 'SELECT' at 0x109D4A8E0>,\n",
       " <Whitespace ' ' at 0x109D4A820>,\n",
       " <IdentifierList '*, cli...' at 0x109D53660>,\n",
       " <Whitespace ' ' at 0x109C7F460>,\n",
       " <Keyword 'FROM' at 0x109D58D60>,\n",
       " <Whitespace ' ' at 0x109D58E20>,\n",
       " <Identifier 'df' at 0x109D53CF0>,\n",
       " <Newline ' ' at 0x109D587C0>,\n",
       " <Where 'WHERE ...' at 0x109D53A50>]"
      ]
     },
     "execution_count": 34,
     "metadata": {},
     "output_type": "execute_result"
    }
   ],
   "source": [
    "out = sqlparse.parse(raw)[0]\n",
    "out.tokens"
   ]
  },
  {
   "cell_type": "code",
   "execution_count": 35,
   "metadata": {},
   "outputs": [
    {
     "data": {
      "text/plain": [
       "<Identifier 'clip(i...' at 0x109D537B0>"
      ]
     },
     "execution_count": 35,
     "metadata": {},
     "output_type": "execute_result"
    }
   ],
   "source": [
    "out.tokens[2].tokens[-1]"
   ]
  },
  {
   "cell_type": "code",
   "execution_count": 53,
   "metadata": {},
   "outputs": [
    {
     "data": {
      "text/plain": [
       "[]"
      ]
     },
     "execution_count": 53,
     "metadata": {},
     "output_type": "execute_result"
    }
   ],
   "source": [
    "def search_alias(parsed: sqlparse.sql.Statement):\n",
    "    for token in parsed.tokens:\n",
    "        if isinstance(token, sqlparse.sql.Identifier):\n",
    "            return token\n",
    "    \n",
    "def find_all_clips(parsed: sqlparse.sql.Statement):\n",
    "    clip_tokens = []\n",
    "    def _find_all_clips(parsed: sqlparse.sql.Statement):\n",
    "        try:\n",
    "            alias = search_alias(parsed)\n",
    "            tokens = parsed.tokens\n",
    "            for token in tokens:\n",
    "                if isinstance(token, sqlparse.sql.Function) and token.get_name().lower() == 'clip':\n",
    "                    # replace the actual clip with just the alias now (since I compute and store it here in a different call)\n",
    "                    parsed.tokens = [alias]\n",
    "                    clip_tokens.append((token, alias.value))\n",
    "                else:\n",
    "                    _find_all_clips(token)\n",
    "        except:\n",
    "            pass\n",
    "        \n",
    "    _find_all_clips(parsed)\n",
    "\n",
    "    return clip_tokens\n",
    "\n",
    "find_all_clips(out)"
   ]
  },
  {
   "cell_type": "code",
   "execution_count": 61,
   "metadata": {},
   "outputs": [],
   "source": [
    "\n",
    "def parse_clip_fn(parsed) -> tuple[str, str]:\n",
    "    # this shit is broke, use tokens instead to do this more accurately\n",
    "    clip_fn, alias = parsed\n",
    "    raw = clip_fn.tokens[1].value\n",
    "    image_column = raw.strip(\"(\").split(',')[0].strip()\n",
    "    text = raw.strip(\")\").split(',')[1].strip().strip(\"'\")\n",
    "    return (image_column, text, alias )\n",
    "\n",
    "\n",
    "def parse_clip_query(sql_raw: str):\n",
    "    # just one statement for now\n",
    "    parsed = sqlparse.parse(sql_raw)[0]\n",
    "\n",
    "    # create a list of ClipQueryExecutor objects parsed from\n",
    "    # clip(column_name, 'text') as scores clauses\n",
    "    clip_fns = find_all_clips(parsed)\n",
    "    clip_executors = [parse_clip_fn(clip_fn) for clip_fn in clip_fns]\n",
    "    return clip_executors, str(parsed)\n",
    "\n",
    "parsed, new_sql = parse_clip_query(raw)"
   ]
  },
  {
   "cell_type": "code",
   "execution_count": 62,
   "metadata": {},
   "outputs": [
    {
     "data": {
      "text/plain": [
       "[('image_column', 'a dog walked across the street', 'scores')]"
      ]
     },
     "execution_count": 62,
     "metadata": {},
     "output_type": "execute_result"
    }
   ],
   "source": [
    "parsed"
   ]
  },
  {
   "cell_type": "code",
   "execution_count": 63,
   "metadata": {},
   "outputs": [
    {
     "data": {
      "text/plain": [
       "'SELECT *, scores FROM df\\nWHERE a = 1 AND b = 2 AND c = 3'"
      ]
     },
     "execution_count": 63,
     "metadata": {},
     "output_type": "execute_result"
    }
   ],
   "source": [
    "new_sql"
   ]
  },
  {
   "cell_type": "code",
   "execution_count": null,
   "metadata": {},
   "outputs": [],
   "source": []
  }
 ],
 "metadata": {
  "kernelspec": {
   "display_name": "venv",
   "language": "python",
   "name": "python3"
  },
  "language_info": {
   "codemirror_mode": {
    "name": "ipython",
    "version": 3
   },
   "file_extension": ".py",
   "mimetype": "text/x-python",
   "name": "python",
   "nbconvert_exporter": "python",
   "pygments_lexer": "ipython3",
   "version": "3.8.16"
  },
  "orig_nbformat": 4
 },
 "nbformat": 4,
 "nbformat_minor": 2
}
